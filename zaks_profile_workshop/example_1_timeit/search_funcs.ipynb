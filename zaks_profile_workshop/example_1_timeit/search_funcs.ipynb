{
 "cells": [
  {
   "cell_type": "code",
   "execution_count": 4,
   "metadata": {},
   "outputs": [],
   "source": [
    "TEXT=\"\"\"\n",
    "\n",
    "This post will show how to gather Apache Spark Metrics with Prometheus and display the metrics with Grafana in OpenShift 3.9.  We start with a description of the environment, then show how to set up Spark, Prometheus, and Grafana.\n",
    "\n",
    "Environment Overview\n",
    "This is the environment we’re working with. The steps we walk through should apply to slightly newer/older versions of these packages, but it’s possible that you’ll have to tweak things for different releases.\n",
    "\n",
    "Red Hat Enterprise Linux 7.5\n",
    "OpenShift Container Platform 3.9 Cluster\n",
    "Container Runtime: docker-1.13.1\n",
    "OpenShift Prometheus 3.9\n",
    "Apache Spark 2.3.0/Oshinko 0.5.4\n",
    "Grafana 4.7.0-pre1\n",
    "Part 1:  Host Cluster Preparation\n",
    "Install Red Hat Enterprise Linux 7.5 on all nodes in the cluster,  then install OpenShift 3.9 with Openshift Prometheus enabled. Use the host preparation (Section 2.3) and installation guide to install Openshift 3.9 and Openshift Prometheus.\n",
    "\n",
    "Create an inventory file with prometheus enabled. We've included an example inventory file with Prometheus enabled, single master, single etcd, and multiple nodes:\n",
    "\n",
    "\"\"\""
   ]
  },
  {
   "cell_type": "code",
   "execution_count": 5,
   "metadata": {},
   "outputs": [
    {
     "name": "stdout",
     "output_type": "stream",
     "text": [
      "216 ns ± 2.24 ns per loop (mean ± std. dev. of 7 runs, 1000000 loops each)\n"
     ]
    }
   ],
   "source": [
    "%timeit (TEXT.find(\"OpenShift\") is not -1)"
   ]
  },
  {
   "cell_type": "code",
   "execution_count": 6,
   "metadata": {},
   "outputs": [
    {
     "name": "stdout",
     "output_type": "stream",
     "text": [
      "875 ns ± 13.3 ns per loop (mean ± std. dev. of 7 runs, 1000000 loops each)\n"
     ]
    }
   ],
   "source": [
    "import re\n",
    "%timeit re.search(\"OpenShift\", TEXT)\n"
   ]
  }
 ],
 "metadata": {
  "kernelspec": {
   "display_name": "Python 3",
   "language": "python",
   "name": "python3"
  },
  "language_info": {
   "codemirror_mode": {
    "name": "ipython",
    "version": 3
   },
   "file_extension": ".py",
   "mimetype": "text/x-python",
   "name": "python",
   "nbconvert_exporter": "python",
   "pygments_lexer": "ipython3",
   "version": "3.6.3"
  }
 },
 "nbformat": 4,
 "nbformat_minor": 2
}
